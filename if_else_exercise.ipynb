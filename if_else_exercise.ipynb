{
 "cells": [
  {
   "cell_type": "code",
   "execution_count": 1,
   "metadata": {},
   "outputs": [],
   "source": [
    "# if elif else statement\n",
    "\n",
    "# show ticket pricing\n",
    "# 1 to 3 (free)\n",
    "# 4 to 10 (150)\n",
    "# 11 to 60 (250)\n",
    "# above 60 (200)"
   ]
  },
  {
   "cell_type": "code",
   "execution_count": 6,
   "metadata": {},
   "outputs": [],
   "source": [
    "def ticket_price():\n",
    "    age = int(input(\"enter your age \" ))\n",
    "    if age==0:\n",
    "        print(\"you can not watch !\")\n",
    "    elif 0<age<=3:\n",
    "        print(\"ticket price : free \")\n",
    "    elif 3<age<=10:\n",
    "        print(\"ticket price : 150 \")\n",
    "    elif 10<age<=60:\n",
    "        print(\"ticket price : 250 \")\n",
    "    else:\n",
    "        print(\"ticket price : 200 \")"
   ]
  },
  {
   "cell_type": "code",
   "execution_count": 7,
   "metadata": {},
   "outputs": [
    {
     "name": "stdout",
     "output_type": "stream",
     "text": [
      "enter your age 5\n",
      "ticket price : 150 \n"
     ]
    }
   ],
   "source": [
    "ticket_price()"
   ]
  },
  {
   "cell_type": "code",
   "execution_count": 8,
   "metadata": {},
   "outputs": [
    {
     "name": "stdout",
     "output_type": "stream",
     "text": [
      "enter your age 2\n",
      "ticket price : free \n"
     ]
    }
   ],
   "source": [
    "ticket_price()"
   ]
  },
  {
   "cell_type": "code",
   "execution_count": 9,
   "metadata": {},
   "outputs": [
    {
     "name": "stdout",
     "output_type": "stream",
     "text": [
      "enter your age 11\n",
      "ticket price : 250 \n"
     ]
    }
   ],
   "source": [
    "ticket_price()"
   ]
  },
  {
   "cell_type": "code",
   "execution_count": 11,
   "metadata": {},
   "outputs": [
    {
     "name": "stdout",
     "output_type": "stream",
     "text": [
      "enter your age 62\n",
      "ticket price : 200 \n"
     ]
    }
   ],
   "source": [
    "ticket_price()"
   ]
  },
  {
   "cell_type": "code",
   "execution_count": 12,
   "metadata": {},
   "outputs": [
    {
     "name": "stdout",
     "output_type": "stream",
     "text": [
      "enter your age 0\n",
      "you can not watch !\n"
     ]
    }
   ],
   "source": [
    "ticket_price()"
   ]
  },
  {
   "cell_type": "code",
   "execution_count": 2,
   "metadata": {},
   "outputs": [],
   "source": [
    "# in keywoed\n",
    "# if with in"
   ]
  },
  {
   "cell_type": "code",
   "execution_count": 3,
   "metadata": {},
   "outputs": [
    {
     "name": "stdout",
     "output_type": "stream",
     "text": [
      "A is present\n"
     ]
    }
   ],
   "source": [
    "name = \"SHUBHAM\"\n",
    "if 'A' in name:\n",
    "    print(\"A is present\")\n",
    "else:\n",
    "    print(\"not present\")"
   ]
  },
  {
   "cell_type": "code",
   "execution_count": 4,
   "metadata": {},
   "outputs": [
    {
     "data": {
      "text/plain": [
       "'SHUBHAM'"
      ]
     },
     "execution_count": 4,
     "metadata": {},
     "output_type": "execute_result"
    }
   ],
   "source": [
    "name"
   ]
  },
  {
   "cell_type": "code",
   "execution_count": 5,
   "metadata": {},
   "outputs": [
    {
     "name": "stdout",
     "output_type": "stream",
     "text": [
      "not present\n"
     ]
    }
   ],
   "source": [
    "name = \"SHUBHAM\"\n",
    "if 'p' in name:\n",
    "    print(\"A is present\")\n",
    "else:\n",
    "    print(\"not present\")"
   ]
  },
  {
   "cell_type": "code",
   "execution_count": 6,
   "metadata": {},
   "outputs": [
    {
     "name": "stdout",
     "output_type": "stream",
     "text": [
      "string is not empty !\n"
     ]
    }
   ],
   "source": [
    "# check empty or not\n",
    "\n",
    "name = 'abc'\n",
    "if name:\n",
    "    print(\"string is not empty !\")\n",
    "else:\n",
    "    print(\"string is empty !\")"
   ]
  },
  {
   "cell_type": "code",
   "execution_count": 7,
   "metadata": {},
   "outputs": [
    {
     "name": "stdout",
     "output_type": "stream",
     "text": [
      "string is empty !\n"
     ]
    }
   ],
   "source": [
    "name = \"\"\n",
    "if name:\n",
    "    print(\"string is not empty !\")\n",
    "else:\n",
    "    print(\"string is empty !\")"
   ]
  },
  {
   "cell_type": "code",
   "execution_count": 8,
   "metadata": {},
   "outputs": [
    {
     "name": "stdout",
     "output_type": "stream",
     "text": [
      "enter your name :shubham\n",
      "string is not empty !\n"
     ]
    }
   ],
   "source": [
    "name = input(\"enter your name :\")\n",
    "if name:\n",
    "    print(\"string is not empty !\")\n",
    "else:\n",
    "    print(\"string is empty !\")"
   ]
  },
  {
   "cell_type": "code",
   "execution_count": 9,
   "metadata": {},
   "outputs": [
    {
     "name": "stdout",
     "output_type": "stream",
     "text": [
      "enter your name :\n",
      "string is empty !\n"
     ]
    }
   ],
   "source": [
    "name = input(\"enter your name :\")\n",
    "if name:\n",
    "    print(\"string is not empty !\")\n",
    "else:\n",
    "    print(\"string is empty !\")"
   ]
  },
  {
   "cell_type": "code",
   "execution_count": null,
   "metadata": {},
   "outputs": [],
   "source": []
  }
 ],
 "metadata": {
  "kernelspec": {
   "display_name": "Python 3",
   "language": "python",
   "name": "python3"
  },
  "language_info": {
   "codemirror_mode": {
    "name": "ipython",
    "version": 3
   },
   "file_extension": ".py",
   "mimetype": "text/x-python",
   "name": "python",
   "nbconvert_exporter": "python",
   "pygments_lexer": "ipython3",
   "version": "3.7.6"
  }
 },
 "nbformat": 4,
 "nbformat_minor": 4
}
