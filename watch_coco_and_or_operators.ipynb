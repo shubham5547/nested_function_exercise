{
 "cells": [
  {
   "cell_type": "code",
   "execution_count": 2,
   "metadata": {},
   "outputs": [],
   "source": [
    "# exercise - Watch coco\n",
    "# ask user's name and age\n",
    "# if user's name start with ('a' or 'A') and age is above 10 then\n",
    "# print \"you can watch coco movie\"\n",
    "# else print \"sorry ,\" you can not watch coco."
   ]
  },
  {
   "cell_type": "code",
   "execution_count": 10,
   "metadata": {},
   "outputs": [],
   "source": [
    "def my_func ():\n",
    "    user_name = input(\"enter your name here : \")\n",
    "    age = int(input(\"enter your age here : \"))\n",
    "    if (name[0] == 'a' or user_name[0] == 'A') and age >= 10:\n",
    "        print(\"you can watch the coco movie : \")\n",
    "    else:\n",
    "        print(\"you can not watch coco movie : \")"
   ]
  },
  {
   "cell_type": "code",
   "execution_count": 11,
   "metadata": {},
   "outputs": [
    {
     "name": "stdout",
     "output_type": "stream",
     "text": [
      "enter your name here : atul\n",
      "enter your age here : 10\n",
      "you can watch the coco movie : \n"
     ]
    }
   ],
   "source": [
    "my_func()"
   ]
  },
  {
   "cell_type": "code",
   "execution_count": 12,
   "metadata": {},
   "outputs": [
    {
     "name": "stdout",
     "output_type": "stream",
     "text": [
      "enter your name here : shubham\n",
      "enter your age here : 9\n",
      "you can not watch coco movie : \n"
     ]
    }
   ],
   "source": [
    "my_func()"
   ]
  },
  {
   "cell_type": "code",
   "execution_count": 13,
   "metadata": {},
   "outputs": [
    {
     "name": "stdout",
     "output_type": "stream",
     "text": [
      "enter your name here : arpit\n",
      "enter your age here : 9\n",
      "you can not watch coco movie : \n"
     ]
    }
   ],
   "source": [
    "my_func()"
   ]
  },
  {
   "cell_type": "code",
   "execution_count": null,
   "metadata": {},
   "outputs": [],
   "source": []
  }
 ],
 "metadata": {
  "kernelspec": {
   "display_name": "Python 3",
   "language": "python",
   "name": "python3"
  },
  "language_info": {
   "codemirror_mode": {
    "name": "ipython",
    "version": 3
   },
   "file_extension": ".py",
   "mimetype": "text/x-python",
   "name": "python",
   "nbconvert_exporter": "python",
   "pygments_lexer": "ipython3",
   "version": "3.7.6"
  }
 },
 "nbformat": 4,
 "nbformat_minor": 4
}
